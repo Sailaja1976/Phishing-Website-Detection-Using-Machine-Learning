{
 "cells": [
  {
   "cell_type": "code",
   "execution_count": 25,
   "id": "5fa265c0",
   "metadata": {},
   "outputs": [],
   "source": [
    "import matplotlib.pyplot as plt\n",
    "import seaborn as sns\n",
    "import numpy as np\n",
    "import warnings\n",
    "warnings.filterwarnings(\"ignore\")\n",
    "from sklearn.utils import shuffle"
   ]
  },
  {
   "cell_type": "code",
   "execution_count": 26,
   "id": "b13f6d9b",
   "metadata": {},
   "outputs": [
    {
     "data": {
      "text/html": [
       "<div>\n",
       "<style scoped>\n",
       "    .dataframe tbody tr th:only-of-type {\n",
       "        vertical-align: middle;\n",
       "    }\n",
       "\n",
       "    .dataframe tbody tr th {\n",
       "        vertical-align: top;\n",
       "    }\n",
       "\n",
       "    .dataframe thead th {\n",
       "        text-align: right;\n",
       "    }\n",
       "</style>\n",
       "<table border=\"1\" class=\"dataframe\">\n",
       "  <thead>\n",
       "    <tr style=\"text-align: right;\">\n",
       "      <th></th>\n",
       "      <th>URL</th>\n",
       "      <th>Label</th>\n",
       "      <th>Protocol</th>\n",
       "    </tr>\n",
       "  </thead>\n",
       "  <tbody>\n",
       "    <tr>\n",
       "      <th>0</th>\n",
       "      <td>nobell.it/70ffb52d079109dca5664cce6f317373782/...</td>\n",
       "      <td>bad</td>\n",
       "      <td>UDP</td>\n",
       "    </tr>\n",
       "    <tr>\n",
       "      <th>1</th>\n",
       "      <td>www.dghjdgf.com/paypal.co.uk/cycgi-bin/webscrc...</td>\n",
       "      <td>bad</td>\n",
       "      <td>UDP</td>\n",
       "    </tr>\n",
       "    <tr>\n",
       "      <th>2</th>\n",
       "      <td>serviciosbys.com/paypal.cgi.bin.get-into.herf....</td>\n",
       "      <td>bad</td>\n",
       "      <td>UDP</td>\n",
       "    </tr>\n",
       "    <tr>\n",
       "      <th>3</th>\n",
       "      <td>mail.printakid.com/www.online.americanexpress....</td>\n",
       "      <td>bad</td>\n",
       "      <td>UDP</td>\n",
       "    </tr>\n",
       "    <tr>\n",
       "      <th>4</th>\n",
       "      <td>thewhiskeydregs.com/wp-content/themes/widescre...</td>\n",
       "      <td>bad</td>\n",
       "      <td>UDP</td>\n",
       "    </tr>\n",
       "    <tr>\n",
       "      <th>5</th>\n",
       "      <td>smilesvoegol.servebbs.org/voegol.php</td>\n",
       "      <td>bad</td>\n",
       "      <td>UDP</td>\n",
       "    </tr>\n",
       "    <tr>\n",
       "      <th>6</th>\n",
       "      <td>premierpaymentprocessing.com/includes/boleto-2...</td>\n",
       "      <td>bad</td>\n",
       "      <td>UDP</td>\n",
       "    </tr>\n",
       "    <tr>\n",
       "      <th>7</th>\n",
       "      <td>myxxxcollection.com/v1/js/jih321/bpd.com.do/do...</td>\n",
       "      <td>bad</td>\n",
       "      <td>UDP</td>\n",
       "    </tr>\n",
       "    <tr>\n",
       "      <th>8</th>\n",
       "      <td>super1000.info/docs</td>\n",
       "      <td>bad</td>\n",
       "      <td>UDP</td>\n",
       "    </tr>\n",
       "    <tr>\n",
       "      <th>9</th>\n",
       "      <td>horizonsgallery.com/js/bin/ssl1/_id/www.paypal...</td>\n",
       "      <td>bad</td>\n",
       "      <td>UDP</td>\n",
       "    </tr>\n",
       "  </tbody>\n",
       "</table>\n",
       "</div>"
      ],
      "text/plain": [
       "                                                 URL Label Protocol\n",
       "0  nobell.it/70ffb52d079109dca5664cce6f317373782/...   bad      UDP\n",
       "1  www.dghjdgf.com/paypal.co.uk/cycgi-bin/webscrc...   bad      UDP\n",
       "2  serviciosbys.com/paypal.cgi.bin.get-into.herf....   bad      UDP\n",
       "3  mail.printakid.com/www.online.americanexpress....   bad      UDP\n",
       "4  thewhiskeydregs.com/wp-content/themes/widescre...   bad      UDP\n",
       "5               smilesvoegol.servebbs.org/voegol.php   bad      UDP\n",
       "6  premierpaymentprocessing.com/includes/boleto-2...   bad      UDP\n",
       "7  myxxxcollection.com/v1/js/jih321/bpd.com.do/do...   bad      UDP\n",
       "8                                super1000.info/docs   bad      UDP\n",
       "9  horizonsgallery.com/js/bin/ssl1/_id/www.paypal...   bad      UDP"
      ]
     },
     "execution_count": 26,
     "metadata": {},
     "output_type": "execute_result"
    }
   ],
   "source": [
    "import pandas as pd\n",
    "phishing = pd.read_excel(\"phishing  url.xlsx\")\n",
    "phishing.head(10)"
   ]
  },
  {
   "cell_type": "code",
   "execution_count": 27,
   "id": "f28ab210",
   "metadata": {},
   "outputs": [
    {
     "data": {
      "text/html": [
       "<div>\n",
       "<style scoped>\n",
       "    .dataframe tbody tr th:only-of-type {\n",
       "        vertical-align: middle;\n",
       "    }\n",
       "\n",
       "    .dataframe tbody tr th {\n",
       "        vertical-align: top;\n",
       "    }\n",
       "\n",
       "    .dataframe thead th {\n",
       "        text-align: right;\n",
       "    }\n",
       "</style>\n",
       "<table border=\"1\" class=\"dataframe\">\n",
       "  <thead>\n",
       "    <tr style=\"text-align: right;\">\n",
       "      <th></th>\n",
       "      <th>URL</th>\n",
       "      <th>Label</th>\n",
       "      <th>Protocol</th>\n",
       "    </tr>\n",
       "  </thead>\n",
       "  <tbody>\n",
       "    <tr>\n",
       "      <th>3884</th>\n",
       "      <td>'iboon.org/iboon\\%20paypal.htm'</td>\n",
       "      <td>good</td>\n",
       "      <td>ftp</td>\n",
       "    </tr>\n",
       "    <tr>\n",
       "      <th>3885</th>\n",
       "      <td>nail-service.com/loreal.files/redirect.php</td>\n",
       "      <td>good</td>\n",
       "      <td>sftp</td>\n",
       "    </tr>\n",
       "    <tr>\n",
       "      <th>3886</th>\n",
       "      <td>savageranch.com/portal/ativar/plugin/BancodoBr...</td>\n",
       "      <td>good</td>\n",
       "      <td>Http</td>\n",
       "    </tr>\n",
       "    <tr>\n",
       "      <th>3887</th>\n",
       "      <td>'savageranch.com/portal/bnzonlineaccess/accoun...</td>\n",
       "      <td>good</td>\n",
       "      <td>Https</td>\n",
       "    </tr>\n",
       "    <tr>\n",
       "      <th>3888</th>\n",
       "      <td>giveu.asadal.com/GoodMatch/SARS.html</td>\n",
       "      <td>good</td>\n",
       "      <td>Http</td>\n",
       "    </tr>\n",
       "  </tbody>\n",
       "</table>\n",
       "</div>"
      ],
      "text/plain": [
       "                                                    URL Label Protocol\n",
       "3884                    'iboon.org/iboon\\%20paypal.htm'  good      ftp\n",
       "3885         nail-service.com/loreal.files/redirect.php  good     sftp\n",
       "3886  savageranch.com/portal/ativar/plugin/BancodoBr...  good     Http\n",
       "3887  'savageranch.com/portal/bnzonlineaccess/accoun...  good    Https\n",
       "3888               giveu.asadal.com/GoodMatch/SARS.html  good     Http"
      ]
     },
     "execution_count": 27,
     "metadata": {},
     "output_type": "execute_result"
    }
   ],
   "source": [
    "phishing.tail()"
   ]
  },
  {
   "cell_type": "code",
   "execution_count": 28,
   "id": "0469b392",
   "metadata": {},
   "outputs": [
    {
     "name": "stdout",
     "output_type": "stream",
     "text": [
      "(3889, 3)\n"
     ]
    }
   ],
   "source": [
    "print(phishing.shape)"
   ]
  },
  {
   "cell_type": "code",
   "execution_count": 29,
   "id": "ec0f0c70",
   "metadata": {},
   "outputs": [
    {
     "data": {
      "text/plain": [
       "Label\n",
       "bad     2676\n",
       "good    1213\n",
       "Name: count, dtype: int64"
      ]
     },
     "execution_count": 29,
     "metadata": {},
     "output_type": "execute_result"
    }
   ],
   "source": [
    "phishing.Label.value_counts()"
   ]
  },
  {
   "cell_type": "code",
   "execution_count": 30,
   "id": "c856d6d7",
   "metadata": {},
   "outputs": [
    {
     "data": {
      "text/plain": [
       "Protocol\n",
       "ICMP           1524\n",
       "tcp             696\n",
       "TCP             561\n",
       "UDP             476\n",
       "http            166\n",
       "udp             116\n",
       "SSH-Patator     113\n",
       "SNMP             52\n",
       "icmp             43\n",
       "Telnet           38\n",
       "Dns              27\n",
       "imap             18\n",
       "pop3             16\n",
       "smtp             15\n",
       "Http             10\n",
       "Https             7\n",
       "ftp               4\n",
       "RDP               3\n",
       "sftp              3\n",
       "snmp              1\n",
       "Name: count, dtype: int64"
      ]
     },
     "execution_count": 30,
     "metadata": {},
     "output_type": "execute_result"
    }
   ],
   "source": [
    "phishing.Protocol.value_counts()"
   ]
  },
  {
   "cell_type": "code",
   "execution_count": 31,
   "id": "7ab115d1",
   "metadata": {},
   "outputs": [
    {
     "data": {
      "text/plain": [
       "URL\n",
       "nobell.it/70ffb52d079109dca5664cce6f317373782/login.SkyPe.com/en/cgi-bin/verification/login/70ffb52d079109dca5664cce6f317373/index.php?cmd=_profile-ach&outdated_page_tmpl=p/gen/failed-to-load&nav=0.5.1&login_access=1322408526    1\n",
       "www.netofficials.com/media/system/propertiesremax.html                                                                                                                                                                               1\n",
       "bit.ly/LIg5jj?=fidel03921039                                                                                                                                                                                                         1\n",
       "bit.ly/NheAvN?=3Dfide98239382                                                                                                                                                                                                        1\n",
       "credit-habbo-gratos.yolasite.com/contact-us.php                                                                                                                                                                                      1\n",
       "                                                                                                                                                                                                                                    ..\n",
       "home.comcast.net/~Rjcrodeo/redirecting1.htm                                                                                                                                                                                          1\n",
       "home.comcast.net/~Phillips.05/ISAPIdllCustomerSupport&ambaybuyerprotectionpoliciesindex1.html                                                                                                                                        1\n",
       "home.comcast.net/~slerivera/redirecting2.htm                                                                                                                                                                                         1\n",
       "home.comcast.net/~themightyneptune/redirecting3.htm                                                                                                                                                                                  1\n",
       "giveu.asadal.com/GoodMatch/SARS.html                                                                                                                                                                                                 1\n",
       "Name: count, Length: 3889, dtype: int64"
      ]
     },
     "execution_count": 31,
     "metadata": {},
     "output_type": "execute_result"
    }
   ],
   "source": [
    "phishing.URL.value_counts()"
   ]
  },
  {
   "cell_type": "code",
   "execution_count": 32,
   "id": "98183524",
   "metadata": {},
   "outputs": [
    {
     "data": {
      "text/plain": [
       "URL         0\n",
       "Label       0\n",
       "Protocol    0\n",
       "dtype: int64"
      ]
     },
     "execution_count": 32,
     "metadata": {},
     "output_type": "execute_result"
    }
   ],
   "source": [
    "phishing.isnull().sum()"
   ]
  },
  {
   "cell_type": "code",
   "execution_count": 33,
   "id": "990007a1",
   "metadata": {},
   "outputs": [],
   "source": [
    "phishing.dropna(inplace=True)"
   ]
  },
  {
   "cell_type": "code",
   "execution_count": 34,
   "id": "bd2f4879",
   "metadata": {},
   "outputs": [
    {
     "data": {
      "text/plain": [
       "URL         0\n",
       "Label       0\n",
       "Protocol    0\n",
       "dtype: int64"
      ]
     },
     "execution_count": 34,
     "metadata": {},
     "output_type": "execute_result"
    }
   ],
   "source": [
    "phishing.isnull().sum()"
   ]
  },
  {
   "cell_type": "code",
   "execution_count": 35,
   "id": "77fec66e",
   "metadata": {},
   "outputs": [
    {
     "data": {
      "text/plain": [
       "0"
      ]
     },
     "execution_count": 35,
     "metadata": {},
     "output_type": "execute_result"
    }
   ],
   "source": [
    "phishing.duplicated().sum()"
   ]
  },
  {
   "cell_type": "code",
   "execution_count": 36,
   "id": "d6bb1297",
   "metadata": {},
   "outputs": [
    {
     "data": {
      "text/plain": [
       "URL         0\n",
       "Label       0\n",
       "Protocol    0\n",
       "dtype: int64"
      ]
     },
     "execution_count": 36,
     "metadata": {},
     "output_type": "execute_result"
    }
   ],
   "source": [
    "phishing.isna().sum()"
   ]
  },
  {
   "cell_type": "code",
   "execution_count": 37,
   "id": "495b3362",
   "metadata": {},
   "outputs": [
    {
     "name": "stdout",
     "output_type": "stream",
     "text": [
      "<class 'pandas.core.frame.DataFrame'>\n",
      "RangeIndex: 3889 entries, 0 to 3888\n",
      "Data columns (total 3 columns):\n",
      " #   Column    Non-Null Count  Dtype \n",
      "---  ------    --------------  ----- \n",
      " 0   URL       3889 non-null   object\n",
      " 1   Label     3889 non-null   object\n",
      " 2   Protocol  3889 non-null   object\n",
      "dtypes: object(3)\n",
      "memory usage: 91.3+ KB\n"
     ]
    }
   ],
   "source": [
    "phishing.info()"
   ]
  },
  {
   "cell_type": "code",
   "execution_count": 38,
   "id": "77195de2",
   "metadata": {},
   "outputs": [
    {
     "data": {
      "text/html": [
       "<div>\n",
       "<style scoped>\n",
       "    .dataframe tbody tr th:only-of-type {\n",
       "        vertical-align: middle;\n",
       "    }\n",
       "\n",
       "    .dataframe tbody tr th {\n",
       "        vertical-align: top;\n",
       "    }\n",
       "\n",
       "    .dataframe thead th {\n",
       "        text-align: right;\n",
       "    }\n",
       "</style>\n",
       "<table border=\"1\" class=\"dataframe\">\n",
       "  <thead>\n",
       "    <tr style=\"text-align: right;\">\n",
       "      <th></th>\n",
       "      <th>URL</th>\n",
       "      <th>Label</th>\n",
       "      <th>Protocol</th>\n",
       "    </tr>\n",
       "  </thead>\n",
       "  <tbody>\n",
       "    <tr>\n",
       "      <th>count</th>\n",
       "      <td>3889</td>\n",
       "      <td>3889</td>\n",
       "      <td>3889</td>\n",
       "    </tr>\n",
       "    <tr>\n",
       "      <th>unique</th>\n",
       "      <td>3889</td>\n",
       "      <td>2</td>\n",
       "      <td>20</td>\n",
       "    </tr>\n",
       "    <tr>\n",
       "      <th>top</th>\n",
       "      <td>nobell.it/70ffb52d079109dca5664cce6f317373782/...</td>\n",
       "      <td>bad</td>\n",
       "      <td>ICMP</td>\n",
       "    </tr>\n",
       "    <tr>\n",
       "      <th>freq</th>\n",
       "      <td>1</td>\n",
       "      <td>2676</td>\n",
       "      <td>1524</td>\n",
       "    </tr>\n",
       "  </tbody>\n",
       "</table>\n",
       "</div>"
      ],
      "text/plain": [
       "                                                      URL Label Protocol\n",
       "count                                                3889  3889     3889\n",
       "unique                                               3889     2       20\n",
       "top     nobell.it/70ffb52d079109dca5664cce6f317373782/...   bad     ICMP\n",
       "freq                                                    1  2676     1524"
      ]
     },
     "execution_count": 38,
     "metadata": {},
     "output_type": "execute_result"
    }
   ],
   "source": [
    "phishing.describe()"
   ]
  },
  {
   "cell_type": "code",
   "execution_count": 39,
   "id": "3e56854d",
   "metadata": {},
   "outputs": [
    {
     "data": {
      "image/png": "[encoded data removed]",
      "text/plain": [
       "<Figure size 640x480 with 1 Axes>"
      ]
     },
     "metadata": {},
     "output_type": "display_data"
    }
   ],
   "source": [
    "sns.countplot(data=phishing, x=\"Label\")\n",
    "plt.show()"
   ]
  },
  {
   "cell_type": "code",
   "execution_count": 40,
   "id": "29924945",
   "metadata": {},
   "outputs": [],
   "source": [
    "df_shuffled = shuffle(phishing, random_state=42)"
   ]
  },
  {
   "cell_type": "code",
   "execution_count": 41,
   "id": "8ae53387",
   "metadata": {},
   "outputs": [],
   "source": [
    "data_size = 5000"
   ]
  },
  {
   "cell_type": "code",
   "execution_count": 42,
   "id": "1864167e",
   "metadata": {},
   "outputs": [],
   "source": [
    "phishing_url = df_shuffled[:data_size].copy()"
   ]
  },
  {
   "cell_type": "code",
   "execution_count": 43,
   "id": "c45d7ef0",
   "metadata": {},
   "outputs": [
    {
     "data": {
      "image/png": "[encoded data removed]",
      "text/plain": [
       "<Figure size 640x480 with 1 Axes>"
      ]
     },
     "metadata": {},
     "output_type": "display_data"
    }
   ],
   "source": [
    "sns.countplot(data=phishing_url, x=\"Label\")\n",
    "plt.title(\"Labels of the phishing url\")\n",
    "\n",
    "plt.show()"
   ]
  },
  {
   "cell_type": "code",
   "execution_count": 44,
   "id": "a42e1cef",
   "metadata": {},
   "outputs": [
    {
     "name": "stdout",
     "output_type": "stream",
     "text": [
      "<class 'pandas.core.frame.DataFrame'>\n",
      "Index: 3889 entries, 2392 to 3174\n",
      "Data columns (total 3 columns):\n",
      " #   Column    Non-Null Count  Dtype \n",
      "---  ------    --------------  ----- \n",
      " 0   URL       3889 non-null   object\n",
      " 1   Label     3889 non-null   object\n",
      " 2   Protocol  3889 non-null   object\n",
      "dtypes: object(3)\n",
      "memory usage: 121.5+ KB\n"
     ]
    }
   ],
   "source": [
    "phishing_url.info()"
   ]
  },
  {
   "cell_type": "code",
   "execution_count": 45,
   "id": "9539ea75",
   "metadata": {},
   "outputs": [],
   "source": [
    "phishing_url.replace({'good':0, 'bad':1}, inplace=True)"
   ]
  },
  {
   "cell_type": "code",
   "execution_count": 46,
   "id": "80949910",
   "metadata": {},
   "outputs": [
    {
     "data": {
      "text/plain": [
       "Label\n",
       "1    2676\n",
       "0    1213\n",
       "Name: count, dtype: int64"
      ]
     },
     "execution_count": 46,
     "metadata": {},
     "output_type": "execute_result"
    }
   ],
   "source": [
    "phishing_url.Label.value_counts()"
   ]
  },
  {
   "cell_type": "code",
   "execution_count": 47,
   "id": "d21a4549",
   "metadata": {},
   "outputs": [],
   "source": [
    "phishing_url.replace({'ICMP':0, 'TCP':1,'UDP':2,'http':3}, inplace=True)"
   ]
  },
  {
   "cell_type": "code",
   "execution_count": 48,
   "id": "776e02e1",
   "metadata": {},
   "outputs": [
    {
     "data": {
      "text/plain": [
       "Protocol\n",
       "0              1524\n",
       "tcp             696\n",
       "1               561\n",
       "2               476\n",
       "3               166\n",
       "udp             116\n",
       "SSH-Patator     113\n",
       "SNMP             52\n",
       "icmp             43\n",
       "Telnet           38\n",
       "Dns              27\n",
       "imap             18\n",
       "pop3             16\n",
       "smtp             15\n",
       "Http             10\n",
       "Https             7\n",
       "ftp               4\n",
       "RDP               3\n",
       "sftp              3\n",
       "snmp              1\n",
       "Name: count, dtype: int64"
      ]
     },
     "execution_count": 48,
     "metadata": {},
     "output_type": "execute_result"
    }
   ],
   "source": [
    "phishing_url.Protocol.value_counts()"
   ]
  },
  {
   "cell_type": "code",
   "execution_count": 49,
   "id": "3f60f4a8",
   "metadata": {},
   "outputs": [
    {
     "data": {
      "image/png": "[encoded data removed]",
      "text/plain": [
       "<Figure size 1300x800 with 1 Axes>"
      ]
     },
     "metadata": {},
     "output_type": "display_data"
    }
   ],
   "source": [
    "labels = [\"good\",'bad']\n",
    "sizes = [dict(phishing_url.Label.value_counts())[0], dict(phishing_url.Label.value_counts())[1]]\n",
    "plt.figure(figsize = (13,8))\n",
    "plt.pie(sizes, labels=labels, autopct='%1.1f%%',\n",
    "        shadow=True, startangle=90)\n",
    "plt.legend([\"good\",'bad'])\n",
    "plt.title('The percentage of phishing url in dataset')\n",
    "plt.show()"
   ]
  },
  {
   "cell_type": "code",
   "execution_count": 50,
   "id": "43552977",
   "metadata": {},
   "outputs": [
    {
     "data": {
      "image/png": "[encoded data removed]",
      "text/plain": [
       "<Figure size 640x320 with 1 Axes>"
      ]
     },
     "metadata": {},
     "output_type": "display_data"
    }
   ],
   "source": [
    "phishing_url['Protocol'] = pd.to_numeric(phishing_url['Protocol'], errors='coerce')\n",
    "plt.figure(figsize=(8, 4), dpi=80)\n",
    "plt.hist(phishing_url.Protocol, bins=20, color='r')\n",
    "plt.title('which type of protocol')\n",
    "plt.show()"
   ]
  },
  {
   "cell_type": "code",
   "execution_count": 51,
   "id": "fe1d1909",
   "metadata": {},
   "outputs": [
    {
     "data": {
      "image/png": "[encoded data removed]",
      "text/plain": [
       "<Figure size 640x320 with 1 Axes>"
      ]
     },
     "metadata": {},
     "output_type": "display_data"
    }
   ],
   "source": [
    "plt.figure(figsize=(8, 4), dpi=80)\n",
    "plt.hist(phishing_url.Label, bins=10, color='k')\n",
    "plt.title('Labels of phishing url')\n",
    "plt.show()"
   ]
  },
  {
   "cell_type": "code",
   "execution_count": null,
   "id": "fa0171c1",
   "metadata": {},
   "outputs": [],
   "source": []
  },
  {
   "cell_type": "code",
   "execution_count": null,
   "id": "ddb171b7",
   "metadata": {},
   "outputs": [],
   "source": []
  },
  {
   "cell_type": "code",
   "execution_count": null,
   "id": "b96d6f24",
   "metadata": {},
   "outputs": [],
   "source": []
  },
  {
   "cell_type": "code",
   "execution_count": null,
   "id": "6f9b6a88",
   "metadata": {},
   "outputs": [],
   "source": []
  },
  {
   "cell_type": "code",
   "execution_count": null,
   "id": "f0e7cb7e",
   "metadata": {},
   "outputs": [],
   "source": []
  },
  {
   "cell_type": "code",
   "execution_count": null,
   "id": "a51380db",
   "metadata": {},
   "outputs": [],
   "source": []
  },
  {
   "cell_type": "code",
   "execution_count": null,
   "id": "b968786f",
   "metadata": {},
   "outputs": [],
   "source": []
  },
  {
   "cell_type": "code",
   "execution_count": null,
   "id": "59cb6a9c",
   "metadata": {},
   "outputs": [],
   "source": []
  }
 ],
 "metadata": {
  "kernelspec": {
   "display_name": "Python 3 (ipykernel)",
   "language": "python",
   "name": "python3"
  },
  "language_info": {
   "codemirror_mode": {
    "name": "ipython",
    "version": 3
   },
   "file_extension": ".py",
   "mimetype": "text/x-python",
   "name": "python",
   "nbconvert_exporter": "python",
   "pygments_lexer": "ipython3",
   "version": "3.11.7"
  }
 },
 "nbformat": 4,
 "nbformat_minor": 5
}
