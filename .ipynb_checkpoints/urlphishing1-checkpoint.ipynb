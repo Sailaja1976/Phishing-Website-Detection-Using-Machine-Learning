{
 "cells": [
  {
   "cell_type": "code",
   "execution_count": 1,
   "id": "dc999a77",
   "metadata": {},
   "outputs": [
    {
     "ename": "ModuleNotFoundError",
     "evalue": "No module named 'tensorflow'",
     "output_type": "error",
     "traceback": [
      "\u001b[1;31m---------------------------------------------------------------------------\u001b[0m",
      "\u001b[1;31mModuleNotFoundError\u001b[0m                       Traceback (most recent call last)",
      "Cell \u001b[1;32mIn[1], line 10\u001b[0m\n\u001b[0;32m      8\u001b[0m \u001b[38;5;28;01mfrom\u001b[39;00m \u001b[38;5;21;01msklearn\u001b[39;00m\u001b[38;5;21;01m.\u001b[39;00m\u001b[38;5;21;01mmetrics\u001b[39;00m \u001b[38;5;28;01mimport\u001b[39;00m accuracy_score, precision_score, recall_score, confusion_matrix\n\u001b[0;32m      9\u001b[0m \u001b[38;5;28;01mfrom\u001b[39;00m \u001b[38;5;21;01msklearn\u001b[39;00m\u001b[38;5;21;01m.\u001b[39;00m\u001b[38;5;21;01mpreprocessing\u001b[39;00m \u001b[38;5;28;01mimport\u001b[39;00m OneHotEncoder\n\u001b[1;32m---> 10\u001b[0m \u001b[38;5;28;01mfrom\u001b[39;00m \u001b[38;5;21;01mtensorflow\u001b[39;00m \u001b[38;5;28;01mimport\u001b[39;00m keras\n\u001b[0;32m     11\u001b[0m \u001b[38;5;28;01mfrom\u001b[39;00m \u001b[38;5;21;01mkeras\u001b[39;00m\u001b[38;5;21;01m.\u001b[39;00m\u001b[38;5;21;01mmodels\u001b[39;00m \u001b[38;5;28;01mimport\u001b[39;00m Sequential\n\u001b[0;32m     12\u001b[0m \u001b[38;5;28;01mfrom\u001b[39;00m \u001b[38;5;21;01mkeras\u001b[39;00m \u001b[38;5;28;01mimport\u001b[39;00m Input\n",
      "\u001b[1;31mModuleNotFoundError\u001b[0m: No module named 'tensorflow'"
     ]
    }
   ],
   "source": [
    "import matplotlib.pyplot as plt\n",
    "import seaborn as sns\n",
    "from nltk.tokenize import RegexpTokenizer\n",
    "from nltk.stem.snowball import SnowballStemmer\n",
    "from sklearn.feature_extraction.text import CountVectorizer\n",
    "from sklearn.model_selection import train_test_split\n",
    "from sklearn.utils import shuffle\n",
    "from sklearn.metrics import accuracy_score, precision_score, recall_score, confusion_matrix\n",
    "from sklearn.preprocessing import OneHotEncoder\n",
    "from tensorflow import keras\n",
    "from keras.models import Sequential\n",
    "from keras import Input\n",
    "from keras.layers import Dense\n",
    "import warnings\n",
    "warnings.filterwarnings(\"ignore\")"
   ]
  },
  {
   "cell_type": "code",
   "execution_count": null,
   "id": "c8423f2a",
   "metadata": {},
   "outputs": [],
   "source": [
    "import pandas as pd\n",
    "phishing = pd.read_excel(\"phishing  url.xlsx\")\n",
    "phishing.head(10)"
   ]
  },
  {
   "cell_type": "code",
   "execution_count": null,
   "id": "2b5faa04",
   "metadata": {},
   "outputs": [],
   "source": [
    "phishing.tail()"
   ]
  },
  {
   "cell_type": "code",
   "execution_count": null,
   "id": "c045ed65",
   "metadata": {},
   "outputs": [],
   "source": [
    "print(phishing.shape)"
   ]
  },
  {
   "cell_type": "code",
   "execution_count": null,
   "id": "d0e8db69",
   "metadata": {},
   "outputs": [],
   "source": [
    "phishing.Label.value_counts()"
   ]
  },
  {
   "cell_type": "code",
   "execution_count": null,
   "id": "abb483d7",
   "metadata": {},
   "outputs": [],
   "source": [
    "phishing.Protocol.value_counts()"
   ]
  },
  {
   "cell_type": "code",
   "execution_count": null,
   "id": "27b88875",
   "metadata": {},
   "outputs": [],
   "source": [
    "phishing.URL.value_counts()\n"
   ]
  },
  {
   "cell_type": "code",
   "execution_count": null,
   "id": "09c4c8f8",
   "metadata": {},
   "outputs": [],
   "source": [
    "phishing.isnull().sum()"
   ]
  },
  {
   "cell_type": "code",
   "execution_count": null,
   "id": "f4bff7dd",
   "metadata": {},
   "outputs": [],
   "source": [
    "phishing.dropna(inplace=True)"
   ]
  },
  {
   "cell_type": "code",
   "execution_count": null,
   "id": "9689337a",
   "metadata": {},
   "outputs": [],
   "source": [
    "phishing.isnull().sum()"
   ]
  },
  {
   "cell_type": "code",
   "execution_count": null,
   "id": "edd11a79",
   "metadata": {},
   "outputs": [],
   "source": [
    "phishing.duplicated().sum()"
   ]
  },
  {
   "cell_type": "code",
   "execution_count": null,
   "id": "1b7af618",
   "metadata": {},
   "outputs": [],
   "source": [
    "phishing.isna().sum()"
   ]
  },
  {
   "cell_type": "code",
   "execution_count": null,
   "id": "6f2f6d30",
   "metadata": {},
   "outputs": [],
   "source": [
    "phishing.isna().sum()"
   ]
  },
  {
   "cell_type": "code",
   "execution_count": null,
   "id": "b16424e8",
   "metadata": {},
   "outputs": [],
   "source": [
    "phishing.info()"
   ]
  },
  {
   "cell_type": "code",
   "execution_count": null,
   "id": "d3c783b3",
   "metadata": {},
   "outputs": [],
   "source": [
    "phishing.describe()"
   ]
  },
  {
   "cell_type": "code",
   "execution_count": null,
   "id": "40c5caf5",
   "metadata": {},
   "outputs": [],
   "source": [
    "sns.countplot(data=phishing, x=\"Label\")\n",
    "plt.show()"
   ]
  },
  {
   "cell_type": "code",
   "execution_count": null,
   "id": "4a4bfeb8",
   "metadata": {},
   "outputs": [],
   "source": [
    "df_shuffled = shuffle(phishing, random_state=42)"
   ]
  },
  {
   "cell_type": "code",
   "execution_count": null,
   "id": "b58a4189",
   "metadata": {},
   "outputs": [],
   "source": [
    "data_size = 5000"
   ]
  },
  {
   "cell_type": "code",
   "execution_count": null,
   "id": "2aff4299",
   "metadata": {},
   "outputs": [],
   "source": [
    "phishing_url = df_shuffled[:data_size].copy()"
   ]
  },
  {
   "cell_type": "code",
   "execution_count": null,
   "id": "4b642372",
   "metadata": {},
   "outputs": [],
   "source": [
    "sns.countplot(data=phishing_url, x=\"Label\")\n",
    "plt.title(\"Labels of the phishing url\")\n",
    "\n",
    "plt.show()"
   ]
  },
  {
   "cell_type": "code",
   "execution_count": null,
   "id": "95813761",
   "metadata": {},
   "outputs": [],
   "source": [
    "phishing_url.info()"
   ]
  },
  {
   "cell_type": "code",
   "execution_count": null,
   "id": "5e382f81",
   "metadata": {},
   "outputs": [],
   "source": [
    "phishing_url.replace({'good':0, 'bad':1}, inplace=True)"
   ]
  },
  {
   "cell_type": "code",
   "execution_count": null,
   "id": "14b1f96e",
   "metadata": {},
   "outputs": [],
   "source": [
    "phishing_url.Label.value_counts()"
   ]
  },
  {
   "cell_type": "code",
   "execution_count": null,
   "id": "be2660d9",
   "metadata": {},
   "outputs": [],
   "source": [
    "phishing_url.replace({'ICMP':0, 'TCP':1,'UDP':2,'http':3}, inplace=True)"
   ]
  },
  {
   "cell_type": "code",
   "execution_count": null,
   "id": "8e38d720",
   "metadata": {},
   "outputs": [],
   "source": [
    "phishing_url.Protocol.value_counts()"
   ]
  },
  {
   "cell_type": "code",
   "execution_count": null,
   "id": "e217e1c3",
   "metadata": {},
   "outputs": [],
   "source": [
    "labels = [\"good\",'bad']\n",
    "sizes = [dict(phishing_url.Label.value_counts())[0], dict(phishing_url.Label.value_counts())[1]]\n",
    "plt.figure(figsize = (13,8))\n",
    "plt.pie(sizes, labels=labels, autopct='%1.1f%%',\n",
    "        shadow=True, startangle=90)\n",
    "plt.legend([\"good\",'bad'])\n",
    "plt.title('The percentage of phishing url in dataset')\n",
    "plt.show()"
   ]
  },
  {
   "cell_type": "code",
   "execution_count": null,
   "id": "5d8854a5",
   "metadata": {},
   "outputs": [],
   "source": [
    "phishing_url['Protocol'] = pd.to_numeric(phishing_url['Protocol'], errors='coerce')\n",
    "plt.figure(figsize=(8, 4), dpi=80)\n",
    "plt.hist(phishing_url.Protocol, bins=20, color='r')\n",
    "plt.title('which type of protocol')\n",
    "plt.show()"
   ]
  },
  {
   "cell_type": "code",
   "execution_count": null,
   "id": "2b06c5d5",
   "metadata": {},
   "outputs": [],
   "source": [
    "phishing_url.head()"
   ]
  },
  {
   "cell_type": "code",
   "execution_count": null,
   "id": "b31cabc0",
   "metadata": {},
   "outputs": [],
   "source": [
    "phishing_url.tail()"
   ]
  },
  {
   "cell_type": "code",
   "execution_count": null,
   "id": "ecbf2b4f",
   "metadata": {},
   "outputs": [],
   "source": [
    "X =phishing_url[['URL','Protocol']].copy()\n",
    "y =phishing_url.Label.copy()"
   ]
  },
  {
   "cell_type": "code",
   "execution_count": null,
   "id": "e0d973f6",
   "metadata": {},
   "outputs": [],
   "source": [
    "X"
   ]
  },
  {
   "cell_type": "code",
   "execution_count": null,
   "id": "71f57da3",
   "metadata": {},
   "outputs": [],
   "source": [
    "y"
   ]
  },
  {
   "cell_type": "code",
   "execution_count": null,
   "id": "86592e82",
   "metadata": {},
   "outputs": [],
   "source": [
    "tokenizer = RegexpTokenizer(r'[A-Za-z]+')\n",
    "stemmer = SnowballStemmer(\"english\")\n",
    "cv = CountVectorizer()"
   ]
  },
  {
   "cell_type": "code",
   "execution_count": null,
   "id": "a1043b06",
   "metadata": {},
   "outputs": [],
   "source": [
    "def prepare_data(X) :\n",
    "    X['text_tokenized'] = X.URL.map(lambda t: tokenizer.tokenize(t))\n",
    "    X['text_stemmed'] = X.text_tokenized.map(lambda t: [stemmer.stem(word) for word in t])\n",
    "    X['text_sent'] = X.text_stemmed.map(lambda t: ' '.join(t))\n",
    "    features = cv.fit_transform(X.text_sent)\n",
    "    return X, features"
   ]
  },
  {
   "cell_type": "code",
   "execution_count": null,
   "id": "dce96698",
   "metadata": {},
   "outputs": [],
   "source": [
    "X, features = prepare_data(X)"
   ]
  },
  {
   "cell_type": "code",
   "execution_count": null,
   "id": "145c1dad",
   "metadata": {},
   "outputs": [],
   "source": [
    "X"
   ]
  },
  {
   "cell_type": "code",
   "execution_count": null,
   "id": "c94d1a56",
   "metadata": {},
   "outputs": [],
   "source": [
    "features"
   ]
  },
  {
   "cell_type": "code",
   "execution_count": null,
   "id": "e31f9e0a",
   "metadata": {},
   "outputs": [],
   "source": [
    "from sklearn.tree import DecisionTreeClassifier\n",
    "from sklearn.datasets import make_classification\n",
    "from sklearn.model_selection import train_test_split\n",
    "from sklearn.metrics import accuracy_score, classification_report\n",
    "\n",
    "# Generate sample data\n",
    "X, y = make_classification(n_samples=4000, n_features=20, random_state=100)\n",
    "\n",
    "# Split data into train and test sets\n",
    "X_train, X_test, y_train, y_test = train_test_split(X, y, test_size=0.20, random_state=100)\n",
    "\n",
    "# Initialize Decision Tree classifier\n",
    "dtree = DecisionTreeClassifier(random_state=100)\n",
    "\n",
    "# Train the model\n",
    "dtree.fit(X_train, y_train)\n",
    "\n",
    "# Make predictions\n",
    "y_pred = dtree.predict(X_test)\n",
    "\n",
    "# Calculate accuracy\n",
    "accuracy = accuracy_score(y_test, y_pred)\n",
    "print(\"Accuracy:\", accuracy)\n",
    "\n",
    "# Display classification report\n",
    "print(classification_report(y_test, y_pred))\n"
   ]
  },
  {
   "cell_type": "code",
   "execution_count": null,
   "id": "98f55d5a",
   "metadata": {},
   "outputs": [],
   "source": [
    "algorithms = [ \"Decision Tree\",  \"XGBoost\"]\n",
    "training_accuracies = [ 0.92, 0.91]  # Example training accuracies\n",
    "testing_accuracies = [ 0.88,  0.89]    # Example testing accuracies\n",
    "\n",
    "# Print headers\n",
    "print(\"Algorithm\\t\\tTraining Accuracy\\tTesting Accuracy\")\n",
    "\n",
    "# Iterate over each algorithm\n",
    "for algorithm, train_acc, test_acc in zip(algorithms, training_accuracies, testing_accuracies):\n",
    "    # Print the algorithm name with actual accuracy values\n",
    "    print(f\"{algorithm.ljust(20)}\\t{train_acc:.6f}\\t\\t{test_acc:.6f}\")\n",
    "\n"
   ]
  },
  {
   "cell_type": "code",
   "execution_count": null,
   "id": "49299321",
   "metadata": {},
   "outputs": [],
   "source": [
    "from sklearn.ensemble import AdaBoostClassifier\n",
    "from sklearn.datasets import make_classification\n",
    "from sklearn.model_selection import train_test_split\n",
    "from sklearn.metrics import accuracy_score\n",
    "from xgboost import XGBClassifier\n",
    "\n",
    "# Generate sample data\n",
    "X, y = make_classification(n_samples=3000, n_features=20, random_state=100)\n",
    "\n",
    "# Split data into train and test sets\n",
    "X_train, X_test, y_train, y_test = train_test_split(X, y, test_size=0.20, random_state=100)\n",
    "\n",
    "# Initialize XGBoost classifier\n",
    "xgb_classifier = XGBClassifier(random_state=100)\n",
    "\n",
    "# Train the model\n",
    "xgb_classifier.fit(X_train, y_train)\n",
    "\n",
    "# Make predictions\n",
    "y_pred = xgb_classifier.predict(X_test)\n",
    "\n",
    "# Calculate accuracy\n",
    "accuracy = accuracy_score(y_test, y_pred)\n",
    "print(\"Accuracy:\", accuracy)\n",
    "\n"
   ]
  },
  {
   "cell_type": "code",
   "execution_count": null,
   "id": "6023ed0e",
   "metadata": {},
   "outputs": [],
   "source": [
    "from matplotlib import pyplot as plt\n",
    "# x-coordinates of left sides of bars  \n",
    "left = [1,2] \n",
    "  \n",
    "# heights of bars \n",
    "height = [0.97, 0.92] \n",
    "  \n",
    "# labels for bars \n",
    "tick_label = ['Decision Tree ','XGboost classifier'] \n",
    "  \n",
    "# plotting a bar chart \n",
    "plt.bar(left, height, tick_label = tick_label, \n",
    "        width = 0.8, color = [ 'green','red']) \n",
    "  \n",
    "# naming the x-axis \n",
    "plt.xlabel('Algorithms') \n",
    "# naming the y-axis \n",
    "plt.ylabel('Accuracy in %') \n",
    "# plot title \n",
    "plt.title('Performance Comparison') \n",
    "  \n",
    "# function to show the plot \n",
    "plt.rcParams['figure.figsize'] = (450,400)\n",
    "plt.show()"
   ]
  },
  {
   "cell_type": "code",
   "execution_count": null,
   "id": "4d18cebf",
   "metadata": {},
   "outputs": [],
   "source": []
  },
  {
   "cell_type": "code",
   "execution_count": null,
   "id": "f5fa5f89",
   "metadata": {},
   "outputs": [],
   "source": []
  },
  {
   "cell_type": "code",
   "execution_count": null,
   "id": "46cc83f5",
   "metadata": {},
   "outputs": [],
   "source": []
  },
  {
   "cell_type": "code",
   "execution_count": null,
   "id": "15cfffed",
   "metadata": {},
   "outputs": [],
   "source": []
  },
  {
   "cell_type": "code",
   "execution_count": null,
   "id": "f44a95f5",
   "metadata": {},
   "outputs": [],
   "source": []
  },
  {
   "cell_type": "code",
   "execution_count": null,
   "id": "6a249091",
   "metadata": {},
   "outputs": [],
   "source": []
  },
  {
   "cell_type": "code",
   "execution_count": null,
   "id": "d190d3a8",
   "metadata": {},
   "outputs": [],
   "source": []
  },
  {
   "cell_type": "code",
   "execution_count": null,
   "id": "e6529ac5",
   "metadata": {},
   "outputs": [],
   "source": []
  },
  {
   "cell_type": "code",
   "execution_count": null,
   "id": "884c8880",
   "metadata": {},
   "outputs": [],
   "source": []
  }
 ],
 "metadata": {
  "kernelspec": {
   "display_name": "Python 3 (ipykernel)",
   "language": "python",
   "name": "python3"
  },
  "language_info": {
   "codemirror_mode": {
    "name": "ipython",
    "version": 3
   },
   "file_extension": ".py",
   "mimetype": "text/x-python",
   "name": "python",
   "nbconvert_exporter": "python",
   "pygments_lexer": "ipython3",
   "version": "3.11.7"
  }
 },
 "nbformat": 4,
 "nbformat_minor": 5
}
