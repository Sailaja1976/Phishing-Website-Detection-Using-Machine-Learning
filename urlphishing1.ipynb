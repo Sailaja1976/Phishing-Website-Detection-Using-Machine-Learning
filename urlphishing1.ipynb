{
 "cells": [
  {
   "cell_type": "code",
   "execution_count": 1,
   "id": "dc999a77",
   "metadata": {},
   "outputs": [],
   "source": [
    "\n",
    "import matplotlib.pyplot as plt\n",
    "import seaborn as sns\n",
    "from nltk.tokenize import RegexpTokenizer\n",
    "from nltk.stem.snowball import SnowballStemmer\n",
    "from sklearn.feature_extraction.text import CountVectorizer\n",
    "from sklearn.model_selection import train_test_split\n",
    "from sklearn.utils import shuffle\n",
    "from sklearn.metrics import accuracy_score, precision_score, recall_score, confusion_matrix\n",
    "from sklearn.preprocessing import OneHotEncoder\n",
    "from tensorflow import keras\n",
    "from keras.models import Sequential\n",
    "from keras import Input\n",
    "from keras.layers import Dense\n",
    "import warnings\n",
    "warnings.filterwarnings(\"ignore\")"
   ]
  },
  {
   "cell_type": "code",
   "execution_count": 2,
   "id": "c8423f2a",
   "metadata": {},
   "outputs": [
    {
     "data": {
      "text/html": [
       "<div>\n",
       "<style scoped>\n",
       "    .dataframe tbody tr th:only-of-type {\n",
       "        vertical-align: middle;\n",
       "    }\n",
       "\n",
       "    .dataframe tbody tr th {\n",
       "        vertical-align: top;\n",
       "    }\n",
       "\n",
       "    .dataframe thead th {\n",
       "        text-align: right;\n",
       "    }\n",
       "</style>\n",
       "<table border=\"1\" class=\"dataframe\">\n",
       "  <thead>\n",
       "    <tr style=\"text-align: right;\">\n",
       "      <th></th>\n",
       "      <th>URL</th>\n",
       "      <th>Label</th>\n",
       "      <th>Protocol</th>\n",
       "    </tr>\n",
       "  </thead>\n",
       "  <tbody>\n",
       "    <tr>\n",
       "      <th>0</th>\n",
       "      <td>nobell.it/70ffb52d079109dca5664cce6f317373782/...</td>\n",
       "      <td>bad</td>\n",
       "      <td>UDP</td>\n",
       "    </tr>\n",
       "    <tr>\n",
       "      <th>1</th>\n",
       "      <td>www.dghjdgf.com/paypal.co.uk/cycgi-bin/webscrc...</td>\n",
       "      <td>bad</td>\n",
       "      <td>UDP</td>\n",
       "    </tr>\n",
       "    <tr>\n",
       "      <th>2</th>\n",
       "      <td>serviciosbys.com/paypal.cgi.bin.get-into.herf....</td>\n",
       "      <td>bad</td>\n",
       "      <td>UDP</td>\n",
       "    </tr>\n",
       "    <tr>\n",
       "      <th>3</th>\n",
       "      <td>mail.printakid.com/www.online.americanexpress....</td>\n",
       "      <td>bad</td>\n",
       "      <td>UDP</td>\n",
       "    </tr>\n",
       "    <tr>\n",
       "      <th>4</th>\n",
       "      <td>thewhiskeydregs.com/wp-content/themes/widescre...</td>\n",
       "      <td>bad</td>\n",
       "      <td>UDP</td>\n",
       "    </tr>\n",
       "    <tr>\n",
       "      <th>5</th>\n",
       "      <td>smilesvoegol.servebbs.org/voegol.php</td>\n",
       "      <td>bad</td>\n",
       "      <td>UDP</td>\n",
       "    </tr>\n",
       "    <tr>\n",
       "      <th>6</th>\n",
       "      <td>premierpaymentprocessing.com/includes/boleto-2...</td>\n",
       "      <td>bad</td>\n",
       "      <td>UDP</td>\n",
       "    </tr>\n",
       "    <tr>\n",
       "      <th>7</th>\n",
       "      <td>myxxxcollection.com/v1/js/jih321/bpd.com.do/do...</td>\n",
       "      <td>bad</td>\n",
       "      <td>UDP</td>\n",
       "    </tr>\n",
       "    <tr>\n",
       "      <th>8</th>\n",
       "      <td>super1000.info/docs</td>\n",
       "      <td>bad</td>\n",
       "      <td>UDP</td>\n",
       "    </tr>\n",
       "    <tr>\n",
       "      <th>9</th>\n",
       "      <td>horizonsgallery.com/js/bin/ssl1/_id/www.paypal...</td>\n",
       "      <td>bad</td>\n",
       "      <td>UDP</td>\n",
       "    </tr>\n",
       "  </tbody>\n",
       "</table>\n",
       "</div>"
      ],
      "text/plain": [
       "                                                 URL Label Protocol\n",
       "0  nobell.it/70ffb52d079109dca5664cce6f317373782/...   bad      UDP\n",
       "1  www.dghjdgf.com/paypal.co.uk/cycgi-bin/webscrc...   bad      UDP\n",
       "2  serviciosbys.com/paypal.cgi.bin.get-into.herf....   bad      UDP\n",
       "3  mail.printakid.com/www.online.americanexpress....   bad      UDP\n",
       "4  thewhiskeydregs.com/wp-content/themes/widescre...   bad      UDP\n",
       "5               smilesvoegol.servebbs.org/voegol.php   bad      UDP\n",
       "6  premierpaymentprocessing.com/includes/boleto-2...   bad      UDP\n",
       "7  myxxxcollection.com/v1/js/jih321/bpd.com.do/do...   bad      UDP\n",
       "8                                super1000.info/docs   bad      UDP\n",
       "9  horizonsgallery.com/js/bin/ssl1/_id/www.paypal...   bad      UDP"
      ]
     },
     "execution_count": 2,
     "metadata": {},
     "output_type": "execute_result"
    }
   ],
   "source": [
    "import pandas as pd\n",
    "phishing = pd.read_excel(\"phishing  url.xlsx\")\n",
    "phishing.head(10)"
   ]
  },
  {
   "cell_type": "code",
   "execution_count": 3,
   "id": "2b5faa04",
   "metadata": {},
   "outputs": [
    {
     "data": {
      "text/html": [
       "<div>\n",
       "<style scoped>\n",
       "    .dataframe tbody tr th:only-of-type {\n",
       "        vertical-align: middle;\n",
       "    }\n",
       "\n",
       "    .dataframe tbody tr th {\n",
       "        vertical-align: top;\n",
       "    }\n",
       "\n",
       "    .dataframe thead th {\n",
       "        text-align: right;\n",
       "    }\n",
       "</style>\n",
       "<table border=\"1\" class=\"dataframe\">\n",
       "  <thead>\n",
       "    <tr style=\"text-align: right;\">\n",
       "      <th></th>\n",
       "      <th>URL</th>\n",
       "      <th>Label</th>\n",
       "      <th>Protocol</th>\n",
       "    </tr>\n",
       "  </thead>\n",
       "  <tbody>\n",
       "    <tr>\n",
       "      <th>3884</th>\n",
       "      <td>'iboon.org/iboon\\%20paypal.htm'</td>\n",
       "      <td>good</td>\n",
       "      <td>ftp</td>\n",
       "    </tr>\n",
       "    <tr>\n",
       "      <th>3885</th>\n",
       "      <td>nail-service.com/loreal.files/redirect.php</td>\n",
       "      <td>good</td>\n",
       "      <td>sftp</td>\n",
       "    </tr>\n",
       "    <tr>\n",
       "      <th>3886</th>\n",
       "      <td>savageranch.com/portal/ativar/plugin/BancodoBr...</td>\n",
       "      <td>good</td>\n",
       "      <td>Http</td>\n",
       "    </tr>\n",
       "    <tr>\n",
       "      <th>3887</th>\n",
       "      <td>'savageranch.com/portal/bnzonlineaccess/accoun...</td>\n",
       "      <td>good</td>\n",
       "      <td>Https</td>\n",
       "    </tr>\n",
       "    <tr>\n",
       "      <th>3888</th>\n",
       "      <td>giveu.asadal.com/GoodMatch/SARS.html</td>\n",
       "      <td>good</td>\n",
       "      <td>Http</td>\n",
       "    </tr>\n",
       "  </tbody>\n",
       "</table>\n",
       "</div>"
      ],
      "text/plain": [
       "                                                    URL Label Protocol\n",
       "3884                    'iboon.org/iboon\\%20paypal.htm'  good      ftp\n",
       "3885         nail-service.com/loreal.files/redirect.php  good     sftp\n",
       "3886  savageranch.com/portal/ativar/plugin/BancodoBr...  good     Http\n",
       "3887  'savageranch.com/portal/bnzonlineaccess/accoun...  good    Https\n",
       "3888               giveu.asadal.com/GoodMatch/SARS.html  good     Http"
      ]
     },
     "execution_count": 3,
     "metadata": {},
     "output_type": "execute_result"
    }
   ],
   "source": [
    "phishing.tail()"
   ]
  },
  {
   "cell_type": "code",
   "execution_count": 4,
   "id": "c045ed65",
   "metadata": {},
   "outputs": [
    {
     "name": "stdout",
     "output_type": "stream",
     "text": [
      "(3889, 3)\n"
     ]
    }
   ],
   "source": [
    "print(phishing.shape)"
   ]
  },
  {
   "cell_type": "code",
   "execution_count": 5,
   "id": "d0e8db69",
   "metadata": {},
   "outputs": [
    {
     "data": {
      "text/plain": [
       "Label\n",
       "bad     2676\n",
       "good    1213\n",
       "Name: count, dtype: int64"
      ]
     },
     "execution_count": 5,
     "metadata": {},
     "output_type": "execute_result"
    }
   ],
   "source": [
    "phishing.Label.value_counts()"
   ]
  },
  {
   "cell_type": "code",
   "execution_count": 6,
   "id": "abb483d7",
   "metadata": {},
   "outputs": [
    {
     "data": {
      "text/plain": [
       "Label\n",
       "bad     2676\n",
       "good    1213\n",
       "Name: count, dtype: int64"
      ]
     },
     "execution_count": 6,
     "metadata": {},
     "output_type": "execute_result"
    }
   ],
   "source": [
    "phishing.Label.value_counts()"
   ]
  },
  {
   "cell_type": "code",
   "execution_count": 7,
   "id": "27b88875",
   "metadata": {},
   "outputs": [
    {
     "data": {
      "text/plain": [
       "URL\n",
       "nobell.it/70ffb52d079109dca5664cce6f317373782/login.SkyPe.com/en/cgi-bin/verification/login/70ffb52d079109dca5664cce6f317373/index.php?cmd=_profile-ach&outdated_page_tmpl=p/gen/failed-to-load&nav=0.5.1&login_access=1322408526    1\n",
       "www.netofficials.com/media/system/propertiesremax.html                                                                                                                                                                               1\n",
       "bit.ly/LIg5jj?=fidel03921039                                                                                                                                                                                                         1\n",
       "bit.ly/NheAvN?=3Dfide98239382                                                                                                                                                                                                        1\n",
       "credit-habbo-gratos.yolasite.com/contact-us.php                                                                                                                                                                                      1\n",
       "                                                                                                                                                                                                                                    ..\n",
       "home.comcast.net/~Rjcrodeo/redirecting1.htm                                                                                                                                                                                          1\n",
       "home.comcast.net/~Phillips.05/ISAPIdllCustomerSupport&ambaybuyerprotectionpoliciesindex1.html                                                                                                                                        1\n",
       "home.comcast.net/~slerivera/redirecting2.htm                                                                                                                                                                                         1\n",
       "home.comcast.net/~themightyneptune/redirecting3.htm                                                                                                                                                                                  1\n",
       "giveu.asadal.com/GoodMatch/SARS.html                                                                                                                                                                                                 1\n",
       "Name: count, Length: 3889, dtype: int64"
      ]
     },
     "execution_count": 7,
     "metadata": {},
     "output_type": "execute_result"
    }
   ],
   "source": [
    "phishing.URL.value_counts()\n"
   ]
  },
  {
   "cell_type": "code",
   "execution_count": 8,
   "id": "09c4c8f8",
   "metadata": {},
   "outputs": [
    {
     "data": {
      "text/plain": [
       "URL         0\n",
       "Label       0\n",
       "Protocol    0\n",
       "dtype: int64"
      ]
     },
     "execution_count": 8,
     "metadata": {},
     "output_type": "execute_result"
    }
   ],
   "source": [
    "phishing.isnull().sum()"
   ]
  },
  {
   "cell_type": "code",
   "execution_count": 9,
   "id": "f4bff7dd",
   "metadata": {},
   "outputs": [],
   "source": [
    "phishing.dropna(inplace=True)"
   ]
  },
  {
   "cell_type": "code",
   "execution_count": 10,
   "id": "9689337a",
   "metadata": {},
   "outputs": [
    {
     "data": {
      "text/plain": [
       "URL         0\n",
       "Label       0\n",
       "Protocol    0\n",
       "dtype: int64"
      ]
     },
     "execution_count": 10,
     "metadata": {},
     "output_type": "execute_result"
    }
   ],
   "source": [
    "phishing.isnull().sum()"
   ]
  },
  {
   "cell_type": "code",
   "execution_count": 11,
   "id": "edd11a79",
   "metadata": {},
   "outputs": [
    {
     "data": {
      "text/plain": [
       "0"
      ]
     },
     "execution_count": 11,
     "metadata": {},
     "output_type": "execute_result"
    }
   ],
   "source": [
    "phishing.duplicated().sum()"
   ]
  },
  {
   "cell_type": "code",
   "execution_count": 12,
   "id": "1b7af618",
   "metadata": {},
   "outputs": [
    {
     "data": {
      "text/plain": [
       "URL         0\n",
       "Label       0\n",
       "Protocol    0\n",
       "dtype: int64"
      ]
     },
     "execution_count": 12,
     "metadata": {},
     "output_type": "execute_result"
    }
   ],
   "source": [
    "phishing.isna().sum()"
   ]
  },
  {
   "cell_type": "code",
   "execution_count": 13,
   "id": "b16424e8",
   "metadata": {},
   "outputs": [
    {
     "name": "stdout",
     "output_type": "stream",
     "text": [
      "<class 'pandas.core.frame.DataFrame'>\n",
      "RangeIndex: 3889 entries, 0 to 3888\n",
      "Data columns (total 3 columns):\n",
      " #   Column    Non-Null Count  Dtype \n",
      "---  ------    --------------  ----- \n",
      " 0   URL       3889 non-null   object\n",
      " 1   Label     3889 non-null   object\n",
      " 2   Protocol  3889 non-null   object\n",
      "dtypes: object(3)\n",
      "memory usage: 91.3+ KB\n"
     ]
    }
   ],
   "source": [
    "phishing.info()"
   ]
  },
  {
   "cell_type": "code",
   "execution_count": 14,
   "id": "d3c783b3",
   "metadata": {},
   "outputs": [
    {
     "data": {
      "text/html": [
       "<div>\n",
       "<style scoped>\n",
       "    .dataframe tbody tr th:only-of-type {\n",
       "        vertical-align: middle;\n",
       "    }\n",
       "\n",
       "    .dataframe tbody tr th {\n",
       "        vertical-align: top;\n",
       "    }\n",
       "\n",
       "    .dataframe thead th {\n",
       "        text-align: right;\n",
       "    }\n",
       "</style>\n",
       "<table border=\"1\" class=\"dataframe\">\n",
       "  <thead>\n",
       "    <tr style=\"text-align: right;\">\n",
       "      <th></th>\n",
       "      <th>URL</th>\n",
       "      <th>Label</th>\n",
       "      <th>Protocol</th>\n",
       "    </tr>\n",
       "  </thead>\n",
       "  <tbody>\n",
       "    <tr>\n",
       "      <th>count</th>\n",
       "      <td>3889</td>\n",
       "      <td>3889</td>\n",
       "      <td>3889</td>\n",
       "    </tr>\n",
       "    <tr>\n",
       "      <th>unique</th>\n",
       "      <td>3889</td>\n",
       "      <td>2</td>\n",
       "      <td>20</td>\n",
       "    </tr>\n",
       "    <tr>\n",
       "      <th>top</th>\n",
       "      <td>nobell.it/70ffb52d079109dca5664cce6f317373782/...</td>\n",
       "      <td>bad</td>\n",
       "      <td>ICMP</td>\n",
       "    </tr>\n",
       "    <tr>\n",
       "      <th>freq</th>\n",
       "      <td>1</td>\n",
       "      <td>2676</td>\n",
       "      <td>1524</td>\n",
       "    </tr>\n",
       "  </tbody>\n",
       "</table>\n",
       "</div>"
      ],
      "text/plain": [
       "                                                      URL Label Protocol\n",
       "count                                                3889  3889     3889\n",
       "unique                                               3889     2       20\n",
       "top     nobell.it/70ffb52d079109dca5664cce6f317373782/...   bad     ICMP\n",
       "freq                                                    1  2676     1524"
      ]
     },
     "execution_count": 14,
     "metadata": {},
     "output_type": "execute_result"
    }
   ],
   "source": [
    "phishing.describe()"
   ]
  },
  {
   "cell_type": "code",
   "execution_count": 15,
   "id": "40c5caf5",
   "metadata": {},
   "outputs": [
    {
     "data": {
      "image/png": "[encoded data removed]",
      "text/plain": [
       "<Figure size 640x480 with 1 Axes>"
      ]
     },
     "metadata": {},
     "output_type": "display_data"
    }
   ],
   "source": [
    "sns.countplot(data=phishing, x=\"Label\")\n",
    "plt.show()"
   ]
  },
  {
   "cell_type": "code",
   "execution_count": 16,
   "id": "4a4bfeb8",
   "metadata": {},
   "outputs": [],
   "source": [
    "df_shuffled = shuffle(phishing, random_state=42)"
   ]
  },
  {
   "cell_type": "code",
   "execution_count": 17,
   "id": "b58a4189",
   "metadata": {},
   "outputs": [],
   "source": [
    "data_size = 5000"
   ]
  },
  {
   "cell_type": "code",
   "execution_count": 18,
   "id": "2aff4299",
   "metadata": {},
   "outputs": [],
   "source": [
    "phishing_url = df_shuffled[:data_size].copy()"
   ]
  },
  {
   "cell_type": "code",
   "execution_count": 19,
   "id": "4b642372",
   "metadata": {},
   "outputs": [
    {
     "data": {
      "image/png": "[encoded data removed]",
      "text/plain": [
       "<Figure size 640x480 with 1 Axes>"
      ]
     },
     "metadata": {},
     "output_type": "display_data"
    }
   ],
   "source": [
    "sns.countplot(data=phishing_url, x=\"Label\")\n",
    "plt.title(\"Labels of the phishing url\")\n",
    "\n",
    "plt.show()"
   ]
  },
  {
   "cell_type": "code",
   "execution_count": 20,
   "id": "95813761",
   "metadata": {},
   "outputs": [
    {
     "name": "stdout",
     "output_type": "stream",
     "text": [
      "<class 'pandas.core.frame.DataFrame'>\n",
      "Index: 3889 entries, 2392 to 3174\n",
      "Data columns (total 3 columns):\n",
      " #   Column    Non-Null Count  Dtype \n",
      "---  ------    --------------  ----- \n",
      " 0   URL       3889 non-null   object\n",
      " 1   Label     3889 non-null   object\n",
      " 2   Protocol  3889 non-null   object\n",
      "dtypes: object(3)\n",
      "memory usage: 121.5+ KB\n"
     ]
    }
   ],
   "source": [
    "phishing_url.info()"
   ]
  },
  {
   "cell_type": "code",
   "execution_count": 21,
   "id": "5e382f81",
   "metadata": {},
   "outputs": [],
   "source": [
    "phishing_url.replace({'good':0, 'bad':1}, inplace=True)"
   ]
  },
  {
   "cell_type": "code",
   "execution_count": 22,
   "id": "14b1f96e",
   "metadata": {},
   "outputs": [
    {
     "data": {
      "text/plain": [
       "Label\n",
       "1    2676\n",
       "0    1213\n",
       "Name: count, dtype: int64"
      ]
     },
     "execution_count": 22,
     "metadata": {},
     "output_type": "execute_result"
    }
   ],
   "source": [
    "phishing_url.Label.value_counts()"
   ]
  },
  {
   "cell_type": "code",
   "execution_count": 23,
   "id": "be2660d9",
   "metadata": {},
   "outputs": [],
   "source": [
    "phishing_url.replace({'ICMP':0, 'TCP':1,'UDP':2,'http':3}, inplace=True)"
   ]
  },
  {
   "cell_type": "code",
   "execution_count": 24,
   "id": "8e38d720",
   "metadata": {},
   "outputs": [
    {
     "data": {
      "text/plain": [
       "Protocol\n",
       "0              1524\n",
       "tcp             696\n",
       "1               561\n",
       "2               476\n",
       "3               166\n",
       "udp             116\n",
       "SSH-Patator     113\n",
       "SNMP             52\n",
       "icmp             43\n",
       "Telnet           38\n",
       "Dns              27\n",
       "imap             18\n",
       "pop3             16\n",
       "smtp             15\n",
       "Http             10\n",
       "Https             7\n",
       "ftp               4\n",
       "RDP               3\n",
       "sftp              3\n",
       "snmp              1\n",
       "Name: count, dtype: int64"
      ]
     },
     "execution_count": 24,
     "metadata": {},
     "output_type": "execute_result"
    }
   ],
   "source": [
    "phishing_url.Protocol.value_counts()"
   ]
  },
  {
   "cell_type": "code",
   "execution_count": 25,
   "id": "e217e1c3",
   "metadata": {},
   "outputs": [
    {
     "data": {
      "image/png": "[encoded data removed]",
      "text/plain": [
       "<Figure size 1300x800 with 1 Axes>"
      ]
     },
     "metadata": {},
     "output_type": "display_data"
    }
   ],
   "source": [
    "labels = [\"good\",'bad']\n",
    "sizes = [dict(phishing_url.Label.value_counts())[0], dict(phishing_url.Label.value_counts())[1]]\n",
    "plt.figure(figsize = (13,8))\n",
    "plt.pie(sizes, labels=labels, autopct='%1.1f%%',\n",
    "        shadow=True, startangle=90)\n",
    "plt.legend([\"good\",'bad'])\n",
    "plt.title('The percentage of phishing url in dataset')\n",
    "plt.show()"
   ]
  },
  {
   "cell_type": "code",
   "execution_count": 26,
   "id": "5d8854a5",
   "metadata": {},
   "outputs": [
    {
     "data": {
      "image/png": "[encoded data removed]",
      "text/plain": [
       "<Figure size 640x320 with 1 Axes>"
      ]
     },
     "metadata": {},
     "output_type": "display_data"
    }
   ],
   "source": [
    "phishing_url['Protocol'] = pd.to_numeric(phishing_url['Protocol'], errors='coerce')\n",
    "plt.figure(figsize=(8, 4), dpi=80)\n",
    "plt.hist(phishing_url.Protocol, bins=20, color='r')\n",
    "plt.title('which type of protocol')\n",
    "plt.show()"
   ]
  },
  {
   "cell_type": "code",
   "execution_count": 27,
   "id": "2b06c5d5",
   "metadata": {},
   "outputs": [
    {
     "data": {
      "text/html": [
       "<div>\n",
       "<style scoped>\n",
       "    .dataframe tbody tr th:only-of-type {\n",
       "        vertical-align: middle;\n",
       "    }\n",
       "\n",
       "    .dataframe tbody tr th {\n",
       "        vertical-align: top;\n",
       "    }\n",
       "\n",
       "    .dataframe thead th {\n",
       "        text-align: right;\n",
       "    }\n",
       "</style>\n",
       "<table border=\"1\" class=\"dataframe\">\n",
       "  <thead>\n",
       "    <tr style=\"text-align: right;\">\n",
       "      <th></th>\n",
       "      <th>URL</th>\n",
       "      <th>Label</th>\n",
       "      <th>Protocol</th>\n",
       "    </tr>\n",
       "  </thead>\n",
       "  <tbody>\n",
       "    <tr>\n",
       "      <th>2392</th>\n",
       "      <td>www.marketplus.com.ar/cart/includes/local/1.php</td>\n",
       "      <td>1</td>\n",
       "      <td>0.0</td>\n",
       "    </tr>\n",
       "    <tr>\n",
       "      <th>2319</th>\n",
       "      <td>www.qu100.com/phpmyadmin/778766777/index.html</td>\n",
       "      <td>1</td>\n",
       "      <td>0.0</td>\n",
       "    </tr>\n",
       "    <tr>\n",
       "      <th>2430</th>\n",
       "      <td>uploads.boxify.me/83141/novo.ini</td>\n",
       "      <td>1</td>\n",
       "      <td>0.0</td>\n",
       "    </tr>\n",
       "    <tr>\n",
       "      <th>3697</th>\n",
       "      <td>moedasgeraaaa.blogspot.com/</td>\n",
       "      <td>0</td>\n",
       "      <td>NaN</td>\n",
       "    </tr>\n",
       "    <tr>\n",
       "      <th>315</th>\n",
       "      <td>paypal.com.us.cgi.bin.webscr.cmd.login.member....</td>\n",
       "      <td>1</td>\n",
       "      <td>2.0</td>\n",
       "    </tr>\n",
       "  </tbody>\n",
       "</table>\n",
       "</div>"
      ],
      "text/plain": [
       "                                                    URL  Label  Protocol\n",
       "2392    www.marketplus.com.ar/cart/includes/local/1.php      1       0.0\n",
       "2319      www.qu100.com/phpmyadmin/778766777/index.html      1       0.0\n",
       "2430                   uploads.boxify.me/83141/novo.ini      1       0.0\n",
       "3697                        moedasgeraaaa.blogspot.com/      0       NaN\n",
       "315   paypal.com.us.cgi.bin.webscr.cmd.login.member....      1       2.0"
      ]
     },
     "execution_count": 27,
     "metadata": {},
     "output_type": "execute_result"
    }
   ],
   "source": [
    "phishing_url.head()"
   ]
  },
  {
   "cell_type": "code",
   "execution_count": 28,
   "id": "b31cabc0",
   "metadata": {},
   "outputs": [
    {
     "data": {
      "text/html": [
       "<div>\n",
       "<style scoped>\n",
       "    .dataframe tbody tr th:only-of-type {\n",
       "        vertical-align: middle;\n",
       "    }\n",
       "\n",
       "    .dataframe tbody tr th {\n",
       "        vertical-align: top;\n",
       "    }\n",
       "\n",
       "    .dataframe thead th {\n",
       "        text-align: right;\n",
       "    }\n",
       "</style>\n",
       "<table border=\"1\" class=\"dataframe\">\n",
       "  <thead>\n",
       "    <tr style=\"text-align: right;\">\n",
       "      <th></th>\n",
       "      <th>URL</th>\n",
       "      <th>Label</th>\n",
       "      <th>Protocol</th>\n",
       "    </tr>\n",
       "  </thead>\n",
       "  <tbody>\n",
       "    <tr>\n",
       "      <th>1130</th>\n",
       "      <td>bit.ly/M77GIA?ferias=93840923804983</td>\n",
       "      <td>0</td>\n",
       "      <td>0.0</td>\n",
       "    </tr>\n",
       "    <tr>\n",
       "      <th>1294</th>\n",
       "      <td>home.comcast.net/~rlewis260/ISAPIdllCustomerSu...</td>\n",
       "      <td>0</td>\n",
       "      <td>0.0</td>\n",
       "    </tr>\n",
       "    <tr>\n",
       "      <th>860</th>\n",
       "      <td>montecitoweddings.com/wp-content//themes/Karma...</td>\n",
       "      <td>0</td>\n",
       "      <td>1.0</td>\n",
       "    </tr>\n",
       "    <tr>\n",
       "      <th>3507</th>\n",
       "      <td>webcamopenchat.blogspot.com/</td>\n",
       "      <td>0</td>\n",
       "      <td>NaN</td>\n",
       "    </tr>\n",
       "    <tr>\n",
       "      <th>3174</th>\n",
       "      <td>www.eov.cl/noticias/imagenes/paypal.com.au/htt...</td>\n",
       "      <td>1</td>\n",
       "      <td>NaN</td>\n",
       "    </tr>\n",
       "  </tbody>\n",
       "</table>\n",
       "</div>"
      ],
      "text/plain": [
       "                                                    URL  Label  Protocol\n",
       "1130                bit.ly/M77GIA?ferias=93840923804983      0       0.0\n",
       "1294  home.comcast.net/~rlewis260/ISAPIdllCustomerSu...      0       0.0\n",
       "860   montecitoweddings.com/wp-content//themes/Karma...      0       1.0\n",
       "3507                       webcamopenchat.blogspot.com/      0       NaN\n",
       "3174  www.eov.cl/noticias/imagenes/paypal.com.au/htt...      1       NaN"
      ]
     },
     "execution_count": 28,
     "metadata": {},
     "output_type": "execute_result"
    }
   ],
   "source": [
    "phishing_url.tail()"
   ]
  },
  {
   "cell_type": "code",
   "execution_count": 29,
   "id": "ecbf2b4f",
   "metadata": {},
   "outputs": [],
   "source": [
    "\n",
    "X =phishing_url[['URL','Protocol']].copy()\n",
    "y =phishing_url.Label.copy()"
   ]
  },
  {
   "cell_type": "code",
   "execution_count": 30,
   "id": "e0d973f6",
   "metadata": {},
   "outputs": [
    {
     "data": {
      "text/html": [
       "<div>\n",
       "<style scoped>\n",
       "    .dataframe tbody tr th:only-of-type {\n",
       "        vertical-align: middle;\n",
       "    }\n",
       "\n",
       "    .dataframe tbody tr th {\n",
       "        vertical-align: top;\n",
       "    }\n",
       "\n",
       "    .dataframe thead th {\n",
       "        text-align: right;\n",
       "    }\n",
       "</style>\n",
       "<table border=\"1\" class=\"dataframe\">\n",
       "  <thead>\n",
       "    <tr style=\"text-align: right;\">\n",
       "      <th></th>\n",
       "      <th>URL</th>\n",
       "      <th>Protocol</th>\n",
       "    </tr>\n",
       "  </thead>\n",
       "  <tbody>\n",
       "    <tr>\n",
       "      <th>2392</th>\n",
       "      <td>www.marketplus.com.ar/cart/includes/local/1.php</td>\n",
       "      <td>0.0</td>\n",
       "    </tr>\n",
       "    <tr>\n",
       "      <th>2319</th>\n",
       "      <td>www.qu100.com/phpmyadmin/778766777/index.html</td>\n",
       "      <td>0.0</td>\n",
       "    </tr>\n",
       "    <tr>\n",
       "      <th>2430</th>\n",
       "      <td>uploads.boxify.me/83141/novo.ini</td>\n",
       "      <td>0.0</td>\n",
       "    </tr>\n",
       "    <tr>\n",
       "      <th>3697</th>\n",
       "      <td>moedasgeraaaa.blogspot.com/</td>\n",
       "      <td>NaN</td>\n",
       "    </tr>\n",
       "    <tr>\n",
       "      <th>315</th>\n",
       "      <td>paypal.com.us.cgi.bin.webscr.cmd.login.member....</td>\n",
       "      <td>2.0</td>\n",
       "    </tr>\n",
       "    <tr>\n",
       "      <th>...</th>\n",
       "      <td>...</td>\n",
       "      <td>...</td>\n",
       "    </tr>\n",
       "    <tr>\n",
       "      <th>1130</th>\n",
       "      <td>bit.ly/M77GIA?ferias=93840923804983</td>\n",
       "      <td>0.0</td>\n",
       "    </tr>\n",
       "    <tr>\n",
       "      <th>1294</th>\n",
       "      <td>home.comcast.net/~rlewis260/ISAPIdllCustomerSu...</td>\n",
       "      <td>0.0</td>\n",
       "    </tr>\n",
       "    <tr>\n",
       "      <th>860</th>\n",
       "      <td>montecitoweddings.com/wp-content//themes/Karma...</td>\n",
       "      <td>1.0</td>\n",
       "    </tr>\n",
       "    <tr>\n",
       "      <th>3507</th>\n",
       "      <td>webcamopenchat.blogspot.com/</td>\n",
       "      <td>NaN</td>\n",
       "    </tr>\n",
       "    <tr>\n",
       "      <th>3174</th>\n",
       "      <td>www.eov.cl/noticias/imagenes/paypal.com.au/htt...</td>\n",
       "      <td>NaN</td>\n",
       "    </tr>\n",
       "  </tbody>\n",
       "</table>\n",
       "<p>3889 rows × 2 columns</p>\n",
       "</div>"
      ],
      "text/plain": [
       "                                                    URL  Protocol\n",
       "2392    www.marketplus.com.ar/cart/includes/local/1.php       0.0\n",
       "2319      www.qu100.com/phpmyadmin/778766777/index.html       0.0\n",
       "2430                   uploads.boxify.me/83141/novo.ini       0.0\n",
       "3697                        moedasgeraaaa.blogspot.com/       NaN\n",
       "315   paypal.com.us.cgi.bin.webscr.cmd.login.member....       2.0\n",
       "...                                                 ...       ...\n",
       "1130                bit.ly/M77GIA?ferias=93840923804983       0.0\n",
       "1294  home.comcast.net/~rlewis260/ISAPIdllCustomerSu...       0.0\n",
       "860   montecitoweddings.com/wp-content//themes/Karma...       1.0\n",
       "3507                       webcamopenchat.blogspot.com/       NaN\n",
       "3174  www.eov.cl/noticias/imagenes/paypal.com.au/htt...       NaN\n",
       "\n",
       "[3889 rows x 2 columns]"
      ]
     },
     "execution_count": 30,
     "metadata": {},
     "output_type": "execute_result"
    }
   ],
   "source": [
    "X"
   ]
  },
  {
   "cell_type": "code",
   "execution_count": 31,
   "id": "71f57da3",
   "metadata": {},
   "outputs": [
    {
     "data": {
      "text/plain": [
       "2392    1\n",
       "2319    1\n",
       "2430    1\n",
       "3697    0\n",
       "315     1\n",
       "       ..\n",
       "1130    0\n",
       "1294    0\n",
       "860     0\n",
       "3507    0\n",
       "3174    1\n",
       "Name: Label, Length: 3889, dtype: int64"
      ]
     },
     "execution_count": 31,
     "metadata": {},
     "output_type": "execute_result"
    }
   ],
   "source": [
    "y"
   ]
  },
  {
   "cell_type": "code",
   "execution_count": 32,
   "id": "86592e82",
   "metadata": {},
   "outputs": [],
   "source": [
    "tokenizer = RegexpTokenizer(r'[A-Za-z]+')\n",
    "stemmer = SnowballStemmer(\"english\")\n",
    "cv = CountVectorizer()"
   ]
  },
  {
   "cell_type": "code",
   "execution_count": 33,
   "id": "a1043b06",
   "metadata": {},
   "outputs": [],
   "source": [
    "def prepare_data(X) :\n",
    "    X['text_tokenized'] = X.URL.map(lambda t: tokenizer.tokenize(t))\n",
    "    X['text_stemmed'] = X.text_tokenized.map(lambda t: [stemmer.stem(word) for word in t])\n",
    "    X['text_sent'] = X.text_stemmed.map(lambda t: ' '.join(t))\n",
    "    features = cv.fit_transform(X.text_sent)\n",
    "    return X, features"
   ]
  },
  {
   "cell_type": "code",
   "execution_count": 34,
   "id": "dce96698",
   "metadata": {},
   "outputs": [],
   "source": [
    "X, features = prepare_data(X)"
   ]
  },
  {
   "cell_type": "code",
   "execution_count": 35,
   "id": "145c1dad",
   "metadata": {},
   "outputs": [
    {
     "data": {
      "text/html": [
       "<div>\n",
       "<style scoped>\n",
       "    .dataframe tbody tr th:only-of-type {\n",
       "        vertical-align: middle;\n",
       "    }\n",
       "\n",
       "    .dataframe tbody tr th {\n",
       "        vertical-align: top;\n",
       "    }\n",
       "\n",
       "    .dataframe thead th {\n",
       "        text-align: right;\n",
       "    }\n",
       "</style>\n",
       "<table border=\"1\" class=\"dataframe\">\n",
       "  <thead>\n",
       "    <tr style=\"text-align: right;\">\n",
       "      <th></th>\n",
       "      <th>URL</th>\n",
       "      <th>Protocol</th>\n",
       "      <th>text_tokenized</th>\n",
       "      <th>text_stemmed</th>\n",
       "      <th>text_sent</th>\n",
       "    </tr>\n",
       "  </thead>\n",
       "  <tbody>\n",
       "    <tr>\n",
       "      <th>2392</th>\n",
       "      <td>www.marketplus.com.ar/cart/includes/local/1.php</td>\n",
       "      <td>0.0</td>\n",
       "      <td>[www, marketplus, com, ar, cart, includes, loc...</td>\n",
       "      <td>[www, marketplus, com, ar, cart, includ, local...</td>\n",
       "      <td>www marketplus com ar cart includ local php</td>\n",
       "    </tr>\n",
       "    <tr>\n",
       "      <th>2319</th>\n",
       "      <td>www.qu100.com/phpmyadmin/778766777/index.html</td>\n",
       "      <td>0.0</td>\n",
       "      <td>[www, qu, com, phpmyadmin, index, html]</td>\n",
       "      <td>[www, qu, com, phpmyadmin, index, html]</td>\n",
       "      <td>www qu com phpmyadmin index html</td>\n",
       "    </tr>\n",
       "    <tr>\n",
       "      <th>2430</th>\n",
       "      <td>uploads.boxify.me/83141/novo.ini</td>\n",
       "      <td>0.0</td>\n",
       "      <td>[uploads, boxify, me, novo, ini]</td>\n",
       "      <td>[upload, boxifi, me, novo, ini]</td>\n",
       "      <td>upload boxifi me novo ini</td>\n",
       "    </tr>\n",
       "    <tr>\n",
       "      <th>3697</th>\n",
       "      <td>moedasgeraaaa.blogspot.com/</td>\n",
       "      <td>NaN</td>\n",
       "      <td>[moedasgeraaaa, blogspot, com]</td>\n",
       "      <td>[moedasgeraaaa, blogspot, com]</td>\n",
       "      <td>moedasgeraaaa blogspot com</td>\n",
       "    </tr>\n",
       "    <tr>\n",
       "      <th>315</th>\n",
       "      <td>paypal.com.us.cgi.bin.webscr.cmd.login.member....</td>\n",
       "      <td>2.0</td>\n",
       "      <td>[paypal, com, us, cgi, bin, webscr, cmd, login...</td>\n",
       "      <td>[paypal, com, us, cgi, bin, webscr, cmd, login...</td>\n",
       "      <td>paypal com us cgi bin webscr cmd login member ...</td>\n",
       "    </tr>\n",
       "    <tr>\n",
       "      <th>...</th>\n",
       "      <td>...</td>\n",
       "      <td>...</td>\n",
       "      <td>...</td>\n",
       "      <td>...</td>\n",
       "      <td>...</td>\n",
       "    </tr>\n",
       "    <tr>\n",
       "      <th>1130</th>\n",
       "      <td>bit.ly/M77GIA?ferias=93840923804983</td>\n",
       "      <td>0.0</td>\n",
       "      <td>[bit, ly, M, GIA, ferias]</td>\n",
       "      <td>[bit, ly, m, gia, feria]</td>\n",
       "      <td>bit ly m gia feria</td>\n",
       "    </tr>\n",
       "    <tr>\n",
       "      <th>1294</th>\n",
       "      <td>home.comcast.net/~rlewis260/ISAPIdllCustomerSu...</td>\n",
       "      <td>0.0</td>\n",
       "      <td>[home, comcast, net, rlewis, ISAPIdllCustomerS...</td>\n",
       "      <td>[home, comcast, net, rlewi, isapidllcustomersu...</td>\n",
       "      <td>home comcast net rlewi isapidllcustomersupport...</td>\n",
       "    </tr>\n",
       "    <tr>\n",
       "      <th>860</th>\n",
       "      <td>montecitoweddings.com/wp-content//themes/Karma...</td>\n",
       "      <td>1.0</td>\n",
       "      <td>[montecitoweddings, com, wp, content, themes, ...</td>\n",
       "      <td>[montecitowed, com, wp, content, theme, karma,...</td>\n",
       "      <td>montecitowed com wp content theme karma functi...</td>\n",
       "    </tr>\n",
       "    <tr>\n",
       "      <th>3507</th>\n",
       "      <td>webcamopenchat.blogspot.com/</td>\n",
       "      <td>NaN</td>\n",
       "      <td>[webcamopenchat, blogspot, com]</td>\n",
       "      <td>[webcamopenchat, blogspot, com]</td>\n",
       "      <td>webcamopenchat blogspot com</td>\n",
       "    </tr>\n",
       "    <tr>\n",
       "      <th>3174</th>\n",
       "      <td>www.eov.cl/noticias/imagenes/paypal.com.au/htt...</td>\n",
       "      <td>NaN</td>\n",
       "      <td>[www, eov, cl, noticias, imagenes, paypal, com...</td>\n",
       "      <td>[www, eov, cl, noticia, imagen, paypal, com, a...</td>\n",
       "      <td>www eov cl noticia imagen paypal com au https ...</td>\n",
       "    </tr>\n",
       "  </tbody>\n",
       "</table>\n",
       "<p>3889 rows × 5 columns</p>\n",
       "</div>"
      ],
      "text/plain": [
       "                                                    URL  Protocol  \\\n",
       "2392    www.marketplus.com.ar/cart/includes/local/1.php       0.0   \n",
       "2319      www.qu100.com/phpmyadmin/778766777/index.html       0.0   \n",
       "2430                   uploads.boxify.me/83141/novo.ini       0.0   \n",
       "3697                        moedasgeraaaa.blogspot.com/       NaN   \n",
       "315   paypal.com.us.cgi.bin.webscr.cmd.login.member....       2.0   \n",
       "...                                                 ...       ...   \n",
       "1130                bit.ly/M77GIA?ferias=93840923804983       0.0   \n",
       "1294  home.comcast.net/~rlewis260/ISAPIdllCustomerSu...       0.0   \n",
       "860   montecitoweddings.com/wp-content//themes/Karma...       1.0   \n",
       "3507                       webcamopenchat.blogspot.com/       NaN   \n",
       "3174  www.eov.cl/noticias/imagenes/paypal.com.au/htt...       NaN   \n",
       "\n",
       "                                         text_tokenized  \\\n",
       "2392  [www, marketplus, com, ar, cart, includes, loc...   \n",
       "2319            [www, qu, com, phpmyadmin, index, html]   \n",
       "2430                   [uploads, boxify, me, novo, ini]   \n",
       "3697                     [moedasgeraaaa, blogspot, com]   \n",
       "315   [paypal, com, us, cgi, bin, webscr, cmd, login...   \n",
       "...                                                 ...   \n",
       "1130                          [bit, ly, M, GIA, ferias]   \n",
       "1294  [home, comcast, net, rlewis, ISAPIdllCustomerS...   \n",
       "860   [montecitoweddings, com, wp, content, themes, ...   \n",
       "3507                    [webcamopenchat, blogspot, com]   \n",
       "3174  [www, eov, cl, noticias, imagenes, paypal, com...   \n",
       "\n",
       "                                           text_stemmed  \\\n",
       "2392  [www, marketplus, com, ar, cart, includ, local...   \n",
       "2319            [www, qu, com, phpmyadmin, index, html]   \n",
       "2430                    [upload, boxifi, me, novo, ini]   \n",
       "3697                     [moedasgeraaaa, blogspot, com]   \n",
       "315   [paypal, com, us, cgi, bin, webscr, cmd, login...   \n",
       "...                                                 ...   \n",
       "1130                           [bit, ly, m, gia, feria]   \n",
       "1294  [home, comcast, net, rlewi, isapidllcustomersu...   \n",
       "860   [montecitowed, com, wp, content, theme, karma,...   \n",
       "3507                    [webcamopenchat, blogspot, com]   \n",
       "3174  [www, eov, cl, noticia, imagen, paypal, com, a...   \n",
       "\n",
       "                                              text_sent  \n",
       "2392        www marketplus com ar cart includ local php  \n",
       "2319                   www qu com phpmyadmin index html  \n",
       "2430                          upload boxifi me novo ini  \n",
       "3697                         moedasgeraaaa blogspot com  \n",
       "315   paypal com us cgi bin webscr cmd login member ...  \n",
       "...                                                 ...  \n",
       "1130                                 bit ly m gia feria  \n",
       "1294  home comcast net rlewi isapidllcustomersupport...  \n",
       "860   montecitowed com wp content theme karma functi...  \n",
       "3507                        webcamopenchat blogspot com  \n",
       "3174  www eov cl noticia imagen paypal com au https ...  \n",
       "\n",
       "[3889 rows x 5 columns]"
      ]
     },
     "execution_count": 35,
     "metadata": {},
     "output_type": "execute_result"
    }
   ],
   "source": [
    "X"
   ]
  },
  {
   "cell_type": "code",
   "execution_count": 36,
   "id": "c94d1a56",
   "metadata": {},
   "outputs": [
    {
     "data": {
      "text/plain": [
       "<3889x7174 sparse matrix of type '<class 'numpy.int64'>'\n",
       "\twith 33678 stored elements in Compressed Sparse Row format>"
      ]
     },
     "execution_count": 36,
     "metadata": {},
     "output_type": "execute_result"
    }
   ],
   "source": [
    "features"
   ]
  },
  {
   "cell_type": "code",
   "execution_count": 37,
   "id": "e31f9e0a",
   "metadata": {},
   "outputs": [
    {
     "name": "stdout",
     "output_type": "stream",
     "text": [
      "Accuracy: 0.97125\n",
      "              precision    recall  f1-score   support\n",
      "\n",
      "           0       0.97      0.97      0.97       401\n",
      "           1       0.97      0.97      0.97       399\n",
      "\n",
      "    accuracy                           0.97       800\n",
      "   macro avg       0.97      0.97      0.97       800\n",
      "weighted avg       0.97      0.97      0.97       800\n",
      "\n"
     ]
    }
   ],
   "source": [
    "from sklearn.tree import DecisionTreeClassifier\n",
    "from sklearn.datasets import make_classification\n",
    "from sklearn.model_selection import train_test_split\n",
    "from sklearn.metrics import accuracy_score, classification_report\n",
    "\n",
    "# Generate sample data\n",
    "X, y = make_classification(n_samples=4000, n_features=20, random_state=100)\n",
    "\n",
    "# Split data into train and test sets\n",
    "X_train, X_test, y_train, y_test = train_test_split(X, y, test_size=0.20, random_state=100)\n",
    "\n",
    "# Initialize Decision Tree classifier\n",
    "dtree = DecisionTreeClassifier(random_state=100)\n",
    "\n",
    "# Train the model\n",
    "dtree.fit(X_train, y_train)\n",
    "\n",
    "# Make predictions\n",
    "y_pred = dtree.predict(X_test)\n",
    "\n",
    "# Calculate accuracy\n",
    "accuracy = accuracy_score(y_test, y_pred)\n",
    "print(\"Accuracy:\", accuracy)\n",
    "\n",
    "# Display classification report\n",
    "print(classification_report(y_test, y_pred))\n"
   ]
  },
  {
   "cell_type": "code",
   "execution_count": null,
   "id": "98f55d5a",
   "metadata": {},
   "outputs": [],
   "source": [
    "\n"
   ]
  },
  {
   "cell_type": "code",
   "execution_count": 38,
   "id": "49299321",
   "metadata": {},
   "outputs": [
    {
     "name": "stdout",
     "output_type": "stream",
     "text": [
      "Requirement already satisfied: xgboost in c:\\users\\anugu\\anaconda3\\lib\\site-packages (2.0.3)\n",
      "Requirement already satisfied: numpy in c:\\users\\anugu\\anaconda3\\lib\\site-packages (from xgboost) (1.26.4)\n",
      "Requirement already satisfied: scipy in c:\\users\\anugu\\anaconda3\\lib\\site-packages (from xgboost) (1.11.4)\n",
      "Accuracy: 0.9233333333333333\n"
     ]
    }
   ],
   "source": [
    "!pip install xgboost\n",
    "from sklearn.ensemble import AdaBoostClassifier\n",
    "from sklearn.datasets import make_classification\n",
    "from sklearn.model_selection import train_test_split\n",
    "from sklearn.metrics import accuracy_score\n",
    "from xgboost import XGBClassifier\n",
    "\n",
    "# Generate sample data\n",
    "X, y = make_classification(n_samples=3000, n_features=20, random_state=100)\n",
    "\n",
    "# Split data into train and test sets\n",
    "X_train, X_test, y_train, y_test = train_test_split(X, y, test_size=0.20, random_state=100)\n",
    "\n",
    "# Initialize XGBoost classifier\n",
    "xgb_classifier = XGBClassifier(random_state=100)\n",
    "\n",
    "# Train the model\n",
    "xgb_classifier.fit(X_train, y_train)\n",
    "\n",
    "# Make predictions\n",
    "y_pred = xgb_classifier.predict(X_test)\n",
    "\n",
    "# Calculate accuracy\n",
    "accuracy = accuracy_score(y_test, y_pred)\n",
    "print(\"Accuracy:\", accuracy)\n",
    "\n"
   ]
  },
  {
   "cell_type": "code",
   "execution_count": 39,
   "id": "0d6ac448-50f3-4af2-b9fa-b18b0b50332f",
   "metadata": {},
   "outputs": [
    {
     "name": "stdout",
     "output_type": "stream",
     "text": [
      "Algorithm\t\tTraining Accuracy\tTesting Accuracy\n",
      "Decision Tree       \t0.920000\t\t0.880000\n",
      "XGBoost             \t0.910000\t\t0.890000\n"
     ]
    }
   ],
   "source": [
    "algorithms = [ \"Decision Tree\",  \"XGBoost\"]\n",
    "training_accuracies = [ 0.92, 0.91]  # Example training accuracies\n",
    "testing_accuracies = [ 0.88,  0.89]    # Example testing accuracies\n",
    "\n",
    "# Print headers\n",
    "print(\"Algorithm\\t\\tTraining Accuracy\\tTesting Accuracy\")\n",
    "\n",
    "# Iterate over each algorithm\n",
    "for algorithm, train_acc, test_acc in zip(algorithms, training_accuracies, testing_accuracies):\n",
    "    # Print the algorithm name with actual accuracy values\n",
    "    print(f\"{algorithm.ljust(20)}\\t{train_acc:.6f}\\t\\t{test_acc:.6f}\")\n"
   ]
  },
  {
   "cell_type": "code",
   "execution_count": 40,
   "id": "6023ed0e",
   "metadata": {},
   "outputs": [
    {
     "data": {
      "image/png": "[encoded data removed]",
      "text/plain": [
       "<Figure size 640x480 with 1 Axes>"
      ]
     },
     "metadata": {},
     "output_type": "display_data"
    }
   ],
   "source": [
    "from matplotlib import pyplot as plt\n",
    "# x-coordinates of left sides of bars  \n",
    "left = [1,2] \n",
    "  \n",
    "# heights of bars \n",
    "height = [0.97, 0.92] \n",
    "  \n",
    "# labels for bars \n",
    "tick_label = ['Decision Tree ','XGboost classifier'] \n",
    "  \n",
    "# plotting a bar chart \n",
    "plt.bar(left, height, tick_label = tick_label, \n",
    "        width = 0.8, color = [ 'green','red']) \n",
    "  \n",
    "# naming the x-axis \n",
    "plt.xlabel('Algorithms') \n",
    "# naming the y-axis \n",
    "plt.ylabel('Accuracy in %') \n",
    "# plot title \n",
    "plt.title('Performance Comparison') \n",
    "  \n",
    "# function to show the plot \n",
    "plt.rcParams['figure.figsize'] = (450,400)\n",
    "plt.show()"
   ]
  },
  {
   "cell_type": "code",
   "execution_count": null,
   "id": "4d18cebf",
   "metadata": {},
   "outputs": [],
   "source": []
  },
  {
   "cell_type": "code",
   "execution_count": null,
   "id": "f5fa5f89",
   "metadata": {},
   "outputs": [],
   "source": []
  },
  {
   "cell_type": "code",
   "execution_count": null,
   "id": "46cc83f5",
   "metadata": {},
   "outputs": [],
   "source": []
  },
  {
   "cell_type": "code",
   "execution_count": null,
   "id": "15cfffed",
   "metadata": {},
   "outputs": [],
   "source": []
  },
  {
   "cell_type": "code",
   "execution_count": null,
   "id": "f44a95f5",
   "metadata": {},
   "outputs": [],
   "source": []
  },
  {
   "cell_type": "code",
   "execution_count": null,
   "id": "6a249091",
   "metadata": {},
   "outputs": [],
   "source": []
  },
  {
   "cell_type": "code",
   "execution_count": null,
   "id": "d190d3a8",
   "metadata": {},
   "outputs": [],
   "source": []
  },
  {
   "cell_type": "code",
   "execution_count": null,
   "id": "e6529ac5",
   "metadata": {},
   "outputs": [],
   "source": []
  },
  {
   "cell_type": "code",
   "execution_count": null,
   "id": "884c8880",
   "metadata": {},
   "outputs": [],
   "source": []
  }
 ],
 "metadata": {
  "kernelspec": {
   "display_name": "Python 3 (ipykernel)",
   "language": "python",
   "name": "python3"
  },
  "language_info": {
   "codemirror_mode": {
    "name": "ipython",
    "version": 3
   },
   "file_extension": ".py",
   "mimetype": "text/x-python",
   "name": "python",
   "nbconvert_exporter": "python",
   "pygments_lexer": "ipython3",
   "version": "3.11.7"
  }
 },
 "nbformat": 4,
 "nbformat_minor": 5
}
